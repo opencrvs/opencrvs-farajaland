{
 "cells": [
  {
   "cell_type": "markdown",
   "id": "a869ee80",
   "metadata": {},
   "source": [
    "# Create virtual machines in Orbstack(MacOS)/ multipass(Ubuntu)\n",
    "\n",
    "This setup is meant for running Ansible playbooks on MacOS/Ubuntu. \n",
    "\n",
    "## Prerequisites for MacOs\n",
    "1. Install [OrbStack](orbstack.dev)\n",
    "2. Confirm `orb` command is now available on your command line\n",
    "3. Install [Ansible](https://docs.ansible.com/ansible/latest/installation_guide/intro_installation.html)\n",
    "\n",
    "## Prerequisites for Ubuntu\n",
    "1. Install [multipass](https://canonical.com/multipass/install)\n",
    "2. Confirm installation with `multipass --version` command\n",
    "3. Install [Ansible](https://docs.ansible.com/ansible/latest/installation_guide/installation_distros.html#installing-ansible-on-debian)\n",
    "\n",
    "Either run the commands manually from command like (for live output) or by executing cells here"
   ]
  },
  {
   "cell_type": "markdown",
   "id": "cac1c36f",
   "metadata": {},
   "source": [
    "Identifying the OS you are currently using"
   ]
  },
  {
   "cell_type": "code",
   "execution_count": null,
   "id": "e4b68783",
   "metadata": {},
   "outputs": [],
   "source": [
    "import platform\n",
    "\n",
    "linux = platform.system() == \"Linux\""
   ]
  },
  {
   "cell_type": "markdown",
   "id": "5e57ff72",
   "metadata": {},
   "source": [
    "Running the provision script according to OS"
   ]
  },
  {
   "cell_type": "code",
   "execution_count": null,
   "id": "95e2dabd",
   "metadata": {},
   "outputs": [],
   "source": [
    "import subprocess\n",
    "if linux:\n",
    "    subprocess.run([\"bash\", \"./provision-linux.sh\"], check=True)\n",
    "else:\n",
    "    subprocess.run([\"bash\", \"./provision-mac.sh\"], check=True)\n"
   ]
  },
  {
   "cell_type": "markdown",
   "id": "b8bcc303",
   "metadata": {},
   "source": [
    "Notice that the following task will prompt (in VSCode) for your dockerhub username and password"
   ]
  },
  {
   "cell_type": "code",
   "execution_count": null,
   "id": "7159bf63",
   "metadata": {},
   "outputs": [],
   "source": [
    "import os\n",
    "\n",
    "os.environ[\"DOCKER_USERNAME\"] = input(\"Enter Dockerhub username: \")\n",
    "os.environ[\"DOCKER_PASSWORD\"] = input(\"Enter Dockerhub password: \")"
   ]
  },
  {
   "cell_type": "markdown",
   "id": "b1135a6a",
   "metadata": {},
   "source": [
    "The next command is run with Python instead of %%bash simply because %%bash doesn't support real-time output"
   ]
  },
  {
   "cell_type": "code",
   "execution_count": null,
   "id": "b70a7c5d",
   "metadata": {},
   "outputs": [],
   "source": [
    "inventory = 'local.macos.yml'\n",
    "if linux:\n",
    "    inventory = 'local.linux.yml'\n",
    "\n",
    "cmd = f\"\"\"\n",
    "mongo_user=$(openssl rand -hex 8)\n",
    "mongo_pass=$(openssl rand -base64 24)\n",
    "backup_pass=$(openssl rand -base64 16)\n",
    "es_pass=$(openssl rand -base64 24)\n",
    "\n",
    "ansible-playbook -i {inventory} ../server-setup/playbook.yml \\\\\n",
    "  -e encrypted_disk_size=200g \\\\\n",
    "  -e dockerhub_username=$DOCKER_USERNAME \\\\\n",
    "  -e dockerhub_password=$DOCKER_PASSWORD \\\\\n",
    "  -e mongodb_admin_username=$mongo_user \\\\\n",
    "  -e mongodb_admin_password=\"$mongo_pass\" \\\\\n",
    "  -e backup_encryption_passphrase=\"$backup_pass\" \\\\\n",
    "  -e elasticsearch_superuser_password=\"$es_pass\" \\\\\n",
    "  --private-key ./.ssh/ssh-key\n",
    "  -vv\n",
    "\"\"\""
   ]
  },
  {
   "cell_type": "code",
   "execution_count": null,
   "id": "9109a635",
   "metadata": {},
   "outputs": [],
   "source": [
    "import subprocess\n",
    "\n",
    "proc = subprocess.Popen(cmd, stdout=subprocess.PIPE, stderr=subprocess.STDOUT, text=True, shell=True, env=os.environ)\n",
    "for line in proc.stdout:\n",
    "    print(line, end=\"\")\n",
    "proc.wait()"
   ]
  }
 ],
 "metadata": {
  "kernelspec": {
   "display_name": ".venv",
   "language": "python",
   "name": "python3"
  },
  "language_info": {
   "codemirror_mode": {
    "name": "ipython",
    "version": 3
   },
   "file_extension": ".py",
   "mimetype": "text/x-python",
   "name": "python",
   "nbconvert_exporter": "python",
   "pygments_lexer": "ipython3",
   "version": "3.12.3"
  }
 },
 "nbformat": 4,
 "nbformat_minor": 5
}
