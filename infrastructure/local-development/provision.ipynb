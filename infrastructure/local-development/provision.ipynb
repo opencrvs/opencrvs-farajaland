{
 "cells": [
  {
   "cell_type": "markdown",
   "id": "a869ee80",
   "metadata": {},
   "source": [
    "# Create virtual machines in Orbstack\n",
    "\n",
    "This setup is meant for running Ansible playbooks on MacOS. \n",
    "For Linux support, set up two virtual machines with the the tool of your preference, boot up the number of machines you wish to provision, [create required users](https://documentation.opencrvs.org/setup/3.-installation/3.3-set-up-a-server-hosted-environment/3.3.1-provision-your-server-nodes-with-ssh-access#create-a-user-named-provision) and create a variation of `local.macos.yml` inventory file. \n",
    "\n",
    "## Prerequisites\n",
    "1. MacOS\n",
    "2. Install [OrbStack](orbstack.dev)\n",
    "3. Confirm `orb` command is now available on your command line\n",
    "\n",
    "Either run the commands manually from command like (for live output) or by executing cells here"
   ]
  },
  {
   "cell_type": "code",
   "execution_count": null,
   "id": "95e2dabd",
   "metadata": {},
   "outputs": [],
   "source": [
    "%%bash\n",
    "bash ./provision-macos.sh"
   ]
  },
  {
   "cell_type": "markdown",
   "id": "b8bcc303",
   "metadata": {},
   "source": [
    "Notice that the following task will prompt (in VSCode) for your dockerhub username and password"
   ]
  },
  {
   "cell_type": "code",
   "execution_count": null,
   "id": "7159bf63",
   "metadata": {},
   "outputs": [],
   "source": [
    "import os\n",
    "\n",
    "os.environ[\"DOCKER_USERNAME\"] = input(\"Enter Dockerhub username: \")\n",
    "os.environ[\"DOCKER_PASSWORD\"] = input(\"Enter Dockerhub password: \")"
   ]
  },
  {
   "cell_type": "markdown",
   "id": "b1135a6a",
   "metadata": {},
   "source": [
    "The next command is run with Python instead of %%bash simply because %%bash doesn't support real-time output"
   ]
  },
  {
   "cell_type": "code",
   "execution_count": null,
   "id": "b70a7c5d",
   "metadata": {},
   "outputs": [],
   "source": [
    "cmd = \"\"\"\n",
    "mongo_user=$(openssl rand -hex 8)\n",
    "mongo_pass=$(openssl rand -base64 24)\n",
    "backup_pass=$(openssl rand -base64 16)\n",
    "es_pass=$(openssl rand -base64 24)\n",
    "\n",
    "ansible-playbook -i local.macos.yml ../server-setup/playbook.yml \\\\\n",
    "  -e encrypted_disk_size=200g \\\\\n",
    "  -e dockerhub_username=$DOCKER_USERNAME \\\\\n",
    "  -e dockerhub_password=$DOCKER_PASSWORD \\\\\n",
    "  -e mongodb_admin_username=$mongo_user \\\\\n",
    "  -e mongodb_admin_password=\"$mongo_pass\" \\\\\n",
    "  -e backup_encryption_passphrase=\"$backup_pass\" \\\\\n",
    "  -e elasticsearch_superuser_password=\"$es_pass\"\n",
    "\"\"\""
   ]
  },
  {
   "cell_type": "code",
   "execution_count": null,
   "id": "9109a635",
   "metadata": {},
   "outputs": [],
   "source": [
    "import subprocess\n",
    "\n",
    "proc = subprocess.Popen(cmd, stdout=subprocess.PIPE, stderr=subprocess.STDOUT, text=True, shell=True, env=os.environ)\n",
    "for line in proc.stdout:\n",
    "    print(line, end=\"\")\n",
    "proc.wait()"
   ]
  }
 ],
 "metadata": {
  "kernelspec": {
   "display_name": "base",
   "language": "python",
   "name": "python3"
  },
  "language_info": {
   "codemirror_mode": {
    "name": "ipython",
    "version": 3
   },
   "file_extension": ".py",
   "mimetype": "text/x-python",
   "name": "python",
   "nbconvert_exporter": "python",
   "pygments_lexer": "ipython3",
   "version": "3.7.7"
  }
 },
 "nbformat": 4,
 "nbformat_minor": 5
}
